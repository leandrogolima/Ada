{
 "cells": [
  {
   "cell_type": "code",
   "execution_count": 74,
   "id": "540a2885",
   "metadata": {},
   "outputs": [
    {
     "name": "stdout",
     "output_type": "stream",
     "text": [
      "outra coisa\n",
      "Hello World!!!\n"
     ]
    }
   ],
   "source": [
    "lista_de_funcoes = []\n",
    "\n",
    "def decorador(func):\n",
    "    lista_de_funcoes.append(func)\n",
    "    print('outra coisa')\n",
    "    return  func()\n",
    "\n",
    "@decorador\n",
    "def f1():\n",
    "    print('Hello World!!!')\n",
    "\n",
    "lista_de_funcoes\n",
    "f1"
   ]
  },
  {
   "cell_type": "code",
   "execution_count": 73,
   "id": "b933c167",
   "metadata": {},
   "outputs": [
    {
     "data": {
      "text/plain": [
       "[<function __main__.f1()>]"
      ]
     },
     "execution_count": 73,
     "metadata": {},
     "output_type": "execute_result"
    }
   ],
   "source": [
    "lista_de_funcoes"
   ]
  },
  {
   "cell_type": "code",
   "execution_count": null,
   "id": "e0fd4b3e",
   "metadata": {},
   "outputs": [],
   "source": []
  }
 ],
 "metadata": {
  "kernelspec": {
   "display_name": "Python 3 (ipykernel)",
   "language": "python",
   "name": "python3"
  },
  "language_info": {
   "codemirror_mode": {
    "name": "ipython",
    "version": 3
   },
   "file_extension": ".py",
   "mimetype": "text/x-python",
   "name": "python",
   "nbconvert_exporter": "python",
   "pygments_lexer": "ipython3",
   "version": "3.9.12"
  }
 },
 "nbformat": 4,
 "nbformat_minor": 5
}
